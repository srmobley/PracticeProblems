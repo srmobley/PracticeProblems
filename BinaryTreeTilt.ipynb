{
 "cells": [
  {
   "cell_type": "markdown",
   "metadata": {},
   "source": [
    "https://leetcode.com/problems/binary-tree-tilt/\n",
    "\n",
    "Given a binary tree, return the tilt of the whole tree.\n",
    "\n",
    "The tilt of a tree node is defined as the absolute difference between the sum of all left subtree node values and the sum of all right subtree node values. Null node has tilt 0.\n",
    "\n",
    "The tilt of the whole tree is defined as the sum of all nodes' tilt.\n",
    "\n",
    "Example:\n",
    "```Input: \n",
    "         1\n",
    "       /   \\\n",
    "      2     3\n",
    "Output: 1\n",
    "Explanation: \n",
    "Tilt of node 2 : 0\n",
    "Tilt of node 3 : 0\n",
    "Tilt of node 1 : |2-3| = 1\n",
    "Tilt of binary tree : 0 + 0 + 1 = 1```\n",
    "Note:\n",
    "\n",
    "The sum of node values in any subtree won't exceed the range of 32-bit integer.\n",
    "All the tilt values won't exceed the range of 32-bit integer."
   ]
  },
  {
   "cell_type": "code",
   "execution_count": null,
   "metadata": {},
   "outputs": [],
   "source": [
    "# Definition for a binary tree node.\n",
    "# class TreeNode:\n",
    "#     def __init__(self, x):\n",
    "#         self.val = x\n",
    "#         self.left = None\n",
    "#         self.right = None\n",
    "#\n",
    "#           4\n",
    "#       2       5\n",
    "#    1     3               \n",
    "\n",
    "\n",
    "class Solution:\n",
    "    def find_tilt(self, root, items):\n",
    "        if root is None:\n",
    "            return 0\n",
    "        left = self.find_tilt(root.left, items)\n",
    "        right = self.find_tilt(root.right, items)\n",
    "        items.append(abs(left - right))\n",
    "        return root.val + left + right\n",
    "\n",
    "    def findTilt(self, root):\n",
    "        \"\"\"\n",
    "        :type root: TreeNode\n",
    "        :rtype: int\n",
    "        \"\"\"\n",
    "        items = []\n",
    "        self.find_tilt(root, items)\n",
    "        return sum(items)"
   ]
  }
 ],
 "metadata": {
  "kernelspec": {
   "display_name": "Python 3",
   "language": "python",
   "name": "python3"
  },
  "language_info": {
   "codemirror_mode": {
    "name": "ipython",
    "version": 3
   },
   "file_extension": ".py",
   "mimetype": "text/x-python",
   "name": "python",
   "nbconvert_exporter": "python",
   "pygments_lexer": "ipython3",
   "version": "3.6.6"
  }
 },
 "nbformat": 4,
 "nbformat_minor": 2
}
