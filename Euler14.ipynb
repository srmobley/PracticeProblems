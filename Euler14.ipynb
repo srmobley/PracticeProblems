{
 "cells": [
  {
   "cell_type": "code",
   "execution_count": 4,
   "metadata": {},
   "outputs": [],
   "source": [
    "def longest_chain(number):\n",
    "    \n",
    "    max_chain = 0\n",
    "    chain = 1\n",
    "    max_index = None\n",
    "    \n",
    "    for i in range(1, number):\n",
    "        temp = i\n",
    "        \n",
    "        while temp != 1:\n",
    "            if temp%2 == 0:\n",
    "                temp = temp/2\n",
    "                chain+=1\n",
    "            else:\n",
    "                temp = temp*3 + 1\n",
    "                chain+=1\n",
    "        \n",
    "        if chain > max_chain:\n",
    "            max_chain = chain\n",
    "            max_index = i\n",
    "        \n",
    "        chain = 1\n",
    "    \n",
    "    return max_index"
   ]
  },
  {
   "cell_type": "code",
   "execution_count": 6,
   "metadata": {},
   "outputs": [
    {
     "data": {
      "text/plain": [
       "837799"
      ]
     },
     "execution_count": 6,
     "metadata": {},
     "output_type": "execute_result"
    }
   ],
   "source": [
    "longest_chain(1000000)"
   ]
  },
  {
   "cell_type": "code",
   "execution_count": null,
   "metadata": {},
   "outputs": [],
   "source": []
  },
  {
   "cell_type": "code",
   "execution_count": null,
   "metadata": {},
   "outputs": [],
   "source": []
  }
 ],
 "metadata": {
  "kernelspec": {
   "display_name": "Python 3",
   "language": "python",
   "name": "python3"
  },
  "language_info": {
   "codemirror_mode": {
    "name": "ipython",
    "version": 3
   },
   "file_extension": ".py",
   "mimetype": "text/x-python",
   "name": "python",
   "nbconvert_exporter": "python",
   "pygments_lexer": "ipython3",
   "version": "3.6.5"
  }
 },
 "nbformat": 4,
 "nbformat_minor": 2
}
