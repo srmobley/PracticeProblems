{
 "cells": [
  {
   "cell_type": "code",
   "execution_count": 33,
   "metadata": {},
   "outputs": [],
   "source": [
    "# Given a string find the length of the longest substring without repeating characters\n",
    "\n",
    "def length_of_longest_substring(string):\n",
    "    \n",
    "    \n",
    "    longest_substring = 0\n",
    "    temp_counter = 1\n",
    "    \n",
    "    if len(string) <= 1:\n",
    "        return len(string)\n",
    "    \n",
    "    for i in range(0, len(string)-1):\n",
    "        \n",
    "        current_item = i\n",
    "        next_item = i+1\n",
    "        \n",
    "        if string[current_item] != string[next_item]:\n",
    "            temp_counter += 1\n",
    "        else:\n",
    "            temp_counter = 1\n",
    "        \n",
    "        \n",
    "        \n",
    "        if temp_counter > longest_substring:\n",
    "            longest_substring = temp_counter\n",
    "    \n",
    "    \n",
    "    return longest_substring\n",
    "\n",
    "# No back to back \n",
    "# Only unique characters in a substring\n"
   ]
  },
  {
   "cell_type": "code",
   "execution_count": 4,
   "metadata": {
    "scrolled": true
   },
   "outputs": [
    {
     "data": {
      "text/plain": [
       "19"
      ]
     },
     "execution_count": 4,
     "metadata": {},
     "output_type": "execute_result"
    }
   ],
   "source": [
    "len('abkraabcdefghijjxxx')"
   ]
  },
  {
   "cell_type": "code",
   "execution_count": 34,
   "metadata": {},
   "outputs": [],
   "source": [
    "a = \"T\""
   ]
  },
  {
   "cell_type": "code",
   "execution_count": 35,
   "metadata": {},
   "outputs": [
    {
     "data": {
      "text/plain": [
       "1"
      ]
     },
     "execution_count": 35,
     "metadata": {},
     "output_type": "execute_result"
    }
   ],
   "source": [
    "length_of_longest_substring(a)"
   ]
  }
 ],
 "metadata": {
  "kernelspec": {
   "display_name": "Python 3",
   "language": "python",
   "name": "python3"
  },
  "language_info": {
   "codemirror_mode": {
    "name": "ipython",
    "version": 3
   },
   "file_extension": ".py",
   "mimetype": "text/x-python",
   "name": "python",
   "nbconvert_exporter": "python",
   "pygments_lexer": "ipython3",
   "version": "3.6.5"
  }
 },
 "nbformat": 4,
 "nbformat_minor": 2
}
