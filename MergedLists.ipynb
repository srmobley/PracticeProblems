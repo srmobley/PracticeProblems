{
 "cells": [
  {
   "cell_type": "code",
   "execution_count": 20,
   "metadata": {},
   "outputs": [],
   "source": [
    "my_list = [3,4,6,10,11,15]\n",
    "alices_list = [1,5,8,12,14,19]\n"
   ]
  },
  {
   "cell_type": "code",
   "execution_count": 40,
   "metadata": {},
   "outputs": [],
   "source": [
    "def merge_lists(list1, list2):\n",
    "    length = len(list1) + len(list2)\n",
    "    \n",
    "    new_sorted_list = [None] * length\n",
    "    \n",
    "    list1_idx = 0\n",
    "    list2_idx = 0\n",
    "    new_sorted_list_idx = 0\n",
    "    \n",
    "    \n",
    "    while new_sorted_list_idx < length:\n",
    "        \n",
    "        # if 1st is exhausted, append with second list element\n",
    "        if list1_idx == len(list1):\n",
    "            new_sorted_list[new_sorted_list_idx] = list2[list2_idx]\n",
    "            list2_idx+=1\n",
    "        \n",
    "        elif list2_idx == len(list2):\n",
    "            new_sorted_list[new_sorted_list_idx] = list1[list1_idx]\n",
    "            list1_idx+=1\n",
    "        elif list1[list1_idx] < list2[list2_idx]:\n",
    "            new_sorted_list[new_sorted_list_idx] = list1[list1_idx]\n",
    "            list1_idx+=1\n",
    "        else:\n",
    "            new_sorted_list[new_sorted_list_idx] = list2[list2_idx]\n",
    "            list2_idx+=1\n",
    "        \n",
    "        # if 2st is exhausted, append with first list element\n",
    "        \n",
    "        \n",
    "        \n",
    "        # otherwise, append with lowest valued element\n",
    "        \n",
    "        \n",
    "        new_sorted_list_idx+=1\n",
    "    \n",
    "\n",
    "    \n",
    "    return new_sorted_list"
   ]
  },
  {
   "cell_type": "code",
   "execution_count": 41,
   "metadata": {},
   "outputs": [
    {
     "data": {
      "text/plain": [
       "[1, 3, 4, 5, 6, 8, 10, 11, 12, 14, 15, 19]"
      ]
     },
     "execution_count": 41,
     "metadata": {},
     "output_type": "execute_result"
    }
   ],
   "source": [
    "merge_lists(my_list,alices_list)"
   ]
  },
  {
   "cell_type": "code",
   "execution_count": 25,
   "metadata": {},
   "outputs": [
    {
     "name": "stdout",
     "output_type": "stream",
     "text": [
      "12\n"
     ]
    }
   ],
   "source": [
    "print(len(my_list)+len(alices_list))"
   ]
  },
  {
   "cell_type": "code",
   "execution_count": null,
   "metadata": {},
   "outputs": [],
   "source": []
  }
 ],
 "metadata": {
  "kernelspec": {
   "display_name": "Python 3",
   "language": "python",
   "name": "python3"
  },
  "language_info": {
   "codemirror_mode": {
    "name": "ipython",
    "version": 3
   },
   "file_extension": ".py",
   "mimetype": "text/x-python",
   "name": "python",
   "nbconvert_exporter": "python",
   "pygments_lexer": "ipython3",
   "version": "3.6.5"
  }
 },
 "nbformat": 4,
 "nbformat_minor": 2
}
