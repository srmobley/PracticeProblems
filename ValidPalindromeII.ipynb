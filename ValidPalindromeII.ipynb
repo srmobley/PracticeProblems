{
 "cells": [
  {
   "cell_type": "markdown",
   "metadata": {},
   "source": [
    "https://leetcode.com/problems/valid-palindrome-ii/solution/\n",
    "\n",
    "Given a non-empty string s, you may delete at most one character. Judge whether you can make it a palindrome."
   ]
  },
  {
   "cell_type": "code",
   "execution_count": null,
   "metadata": {},
   "outputs": [],
   "source": [
    "class Solution:\n",
    "    def validPalindrome(self, string: str) -> bool:\n",
    "        start = 0\n",
    "        end = len(string) - 1\n",
    "\n",
    "        while start < end:\n",
    "            if string[start] != string[end]:\n",
    "                string_end = string[:end] + string[(end+1):]\n",
    "                string_start = string[:start] + string[(start+1):]\n",
    "                if string_start == string_start[::-1] or string_end == string_end[::-1]:\n",
    "                    return True\n",
    "                return False\n",
    "            else:\n",
    "                start += 1\n",
    "                end -= 1\n",
    "        return True"
   ]
  }
 ],
 "metadata": {
  "kernelspec": {
   "display_name": "Python 3",
   "language": "python",
   "name": "python3"
  },
  "language_info": {
   "codemirror_mode": {
    "name": "ipython",
    "version": 3
   },
   "file_extension": ".py",
   "mimetype": "text/x-python",
   "name": "python",
   "nbconvert_exporter": "python",
   "pygments_lexer": "ipython3",
   "version": "3.6.6"
  }
 },
 "nbformat": 4,
 "nbformat_minor": 2
}
