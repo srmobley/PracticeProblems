{
 "cells": [
  {
   "cell_type": "markdown",
   "metadata": {},
   "source": [
    "# Given a list of integers, find the highest product you can get from three of the integers. The input list_of_ints will always have at least three integers."
   ]
  },
  {
   "cell_type": "code",
   "execution_count": 32,
   "metadata": {},
   "outputs": [],
   "source": [
    "a = [6,4,8,10,1,2,3]"
   ]
  },
  {
   "cell_type": "code",
   "execution_count": 77,
   "metadata": {},
   "outputs": [],
   "source": [
    "b = [-6,-4,-8,-10,-1,-2,-3]"
   ]
  },
  {
   "cell_type": "code",
   "execution_count": 47,
   "metadata": {},
   "outputs": [],
   "source": [
    "c = [10, 0, -1, -5]"
   ]
  },
  {
   "cell_type": "code",
   "execution_count": 48,
   "metadata": {},
   "outputs": [],
   "source": [
    "d = [10, 9, 6, 5, 0, -1, -2, -9, -10]"
   ]
  },
  {
   "cell_type": "code",
   "execution_count": 59,
   "metadata": {},
   "outputs": [],
   "source": [
    "e = [3, 4]"
   ]
  },
  {
   "cell_type": "code",
   "execution_count": 62,
   "metadata": {},
   "outputs": [
    {
     "data": {
      "text/plain": [
       "3"
      ]
     },
     "execution_count": 62,
     "metadata": {},
     "output_type": "execute_result"
    }
   ],
   "source": [
    "min(e)"
   ]
  },
  {
   "cell_type": "code",
   "execution_count": 8,
   "metadata": {},
   "outputs": [
    {
     "data": {
      "text/plain": [
       "16"
      ]
     },
     "execution_count": 8,
     "metadata": {},
     "output_type": "execute_result"
    }
   ],
   "source": [
    "reduce((lambda x,y:x+y) , list_of_ints)"
   ]
  },
  {
   "cell_type": "code",
   "execution_count": 82,
   "metadata": {},
   "outputs": [],
   "source": [
    "import heapq as hq\n",
    "from functools import reduce\n",
    "\n",
    "def highest_product_from_three(arr):\n",
    "    hq.heapify(arr)\n",
    "\n",
    "    highest_ints = hq.nlargest(3, arr)\n",
    "    second_third = hq.nsmallest(2, highest_ints)\n",
    "    bottom_2 = hq.nsmallest(2, arr)\n",
    "    \n",
    "    highest_product = 0\n",
    "    \n",
    "    if len(arr) <= 2:\n",
    "        raise ValueError\n",
    "    elif max(arr) <= 0:\n",
    "        return reduce((lambda x,y:x*y), highest_ints)\n",
    "    \n",
    "    if (reduce((lambda x,y:x*y), second_third) > reduce((lambda x,y:x*y), bottom_2)):\n",
    "        return reduce((lambda x,y:x*y), highest_ints)\n",
    "    else:\n",
    "        return reduce((lambda x,y:x*y), bottom_2) * hq.nlargest(1, arr)[0]\n",
    "    \n",
    "    \n"
   ]
  },
  {
   "cell_type": "code",
   "execution_count": 83,
   "metadata": {},
   "outputs": [
    {
     "data": {
      "text/plain": [
       "-6"
      ]
     },
     "execution_count": 83,
     "metadata": {},
     "output_type": "execute_result"
    }
   ],
   "source": [
    "highest_product_from_three(b)"
   ]
  },
  {
   "cell_type": "code",
   "execution_count": 84,
   "metadata": {},
   "outputs": [],
   "source": [
    "import heapq as hq\n",
    "from functools import reduce\n",
    "\n",
    "def highest_product_from_three(arr):\n",
    "    if len(arr) <= 2:\n",
    "        return None\n",
    "    \n",
    "    hq.heapify(arr)\n",
    "\n",
    "    highest = max(arr)\n",
    "    \n",
    "    second_third_largest = list(hq.nlargest(3, arr)[1:])\n",
    "    second_third_smallest = list(hq.nsmallest(2, arr))\n",
    "    \n",
    "    if max(arr) <= 0:\n",
    "        return highest * reduce((lambda x,y: x*y), second_third_largest) \n",
    "    elif reduce((lambda x,y: x*y), second_third_largest) > reduce((lambda x,y: x*y), second_third_smallest):\n",
    "        return highest * reduce((lambda x,y: x*y), second_third_largest)\n",
    "    else:\n",
    "        return highest * reduce((lambda x,y: x*y), second_third_smallest)"
   ]
  },
  {
   "cell_type": "code",
   "execution_count": 85,
   "metadata": {},
   "outputs": [
    {
     "data": {
      "text/plain": [
       "-80"
      ]
     },
     "execution_count": 85,
     "metadata": {},
     "output_type": "execute_result"
    }
   ],
   "source": [
    "tyler_highest_product_from_three(b)"
   ]
  },
  {
   "cell_type": "code",
   "execution_count": null,
   "metadata": {},
   "outputs": [],
   "source": []
  }
 ],
 "metadata": {
  "kernelspec": {
   "display_name": "Python 3",
   "language": "python",
   "name": "python3"
  },
  "language_info": {
   "codemirror_mode": {
    "name": "ipython",
    "version": 3
   },
   "file_extension": ".py",
   "mimetype": "text/x-python",
   "name": "python",
   "nbconvert_exporter": "python",
   "pygments_lexer": "ipython3",
   "version": "3.6.5"
  }
 },
 "nbformat": 4,
 "nbformat_minor": 2
}
