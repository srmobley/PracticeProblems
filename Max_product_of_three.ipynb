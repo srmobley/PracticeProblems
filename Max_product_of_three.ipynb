{
 "cells": [
  {
   "cell_type": "code",
   "execution_count": 2,
   "metadata": {},
   "outputs": [],
   "source": [
    "a = [-5,-3,-2,-1,0,1,2,3,4,5]"
   ]
  },
  {
   "cell_type": "code",
   "execution_count": 8,
   "metadata": {},
   "outputs": [],
   "source": [
    "b = [5,0,-1,3,-2,6]"
   ]
  },
  {
   "cell_type": "code",
   "execution_count": 18,
   "metadata": {},
   "outputs": [],
   "source": [
    "c = [-1,-2,-3,0,1]"
   ]
  },
  {
   "cell_type": "code",
   "execution_count": 11,
   "metadata": {},
   "outputs": [],
   "source": [
    "def maximumProduct(nums):\n",
    "    \n",
    "    max_product = float(\"-inf\")\n",
    "    \n",
    "    if len(nums) <= 2:\n",
    "        return None\n",
    "    \n",
    "    new_nums = sorted(nums)\n",
    "    \n",
    "    if max(new_nums) < 0:\n",
    "        return new_nums[-1]*new_nums[-2]*new_nums[-3]\n",
    "    else:\n",
    "        if new_nums[0]*new_nums[1] > new_nums[-2]*new_nums[-3]:\n",
    "            return new_nums[-1]*new_nums[0]*new_nums[1]\n",
    "        return new_nums[-1]*new_nums[-2]*new_nums[-3]\n",
    "    "
   ]
  },
  {
   "cell_type": "code",
   "execution_count": 19,
   "metadata": {},
   "outputs": [
    {
     "data": {
      "text/plain": [
       "6"
      ]
     },
     "execution_count": 19,
     "metadata": {},
     "output_type": "execute_result"
    }
   ],
   "source": [
    "maximumProduct(c)"
   ]
  },
  {
   "cell_type": "code",
   "execution_count": null,
   "metadata": {},
   "outputs": [],
   "source": []
  }
 ],
 "metadata": {
  "kernelspec": {
   "display_name": "Python 3",
   "language": "python",
   "name": "python3"
  },
  "language_info": {
   "codemirror_mode": {
    "name": "ipython",
    "version": 3
   },
   "file_extension": ".py",
   "mimetype": "text/x-python",
   "name": "python",
   "nbconvert_exporter": "python",
   "pygments_lexer": "ipython3",
   "version": "3.6.5"
  }
 },
 "nbformat": 4,
 "nbformat_minor": 2
}
