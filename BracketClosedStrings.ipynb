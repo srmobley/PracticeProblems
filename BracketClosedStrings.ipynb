{
 "cells": [
  {
   "cell_type": "code",
   "execution_count": null,
   "metadata": {},
   "outputs": [],
   "source": [
    "Given a string containing just the characters '(', ')', '{', '}', '[' and ']', determine if the input string is valid. \n",
    "An input string is valid if:\n",
    "- Open brackets are closed by the same type of brackets.\n",
    "- Open brackets are closed in the correct order.\n",
    "- Note that an empty string is also considered valid.\n",
    "\n",
    "Example:\n",
    "Input: \"((()))\"\n",
    "Output: True\n",
    "\n",
    "Input: \"[()]{}\"\n",
    "Output: True\n",
    "\n",
    "Input: \"({[)]\"\n",
    "Output: False\n",
    "class Solution:\n",
    "  def isValid(self, s):\n",
    "    # Fill this in.\n",
    "\n",
    "# Test Program\n",
    "s = \"()(){(())\" \n",
    "# should return False\n",
    "print(Solution().isValid(s))\n",
    "\n",
    "s = \"\"\n",
    "# should return True\n",
    "print(Solution().isValid(s))\n",
    "\n",
    "s = \"([{}])()\"\n",
    "# should return True\n",
    "print(Solution().isValid(s))"
   ]
  },
  {
   "cell_type": "code",
   "execution_count": 12,
   "metadata": {},
   "outputs": [],
   "source": [
    "def closed_string(string):\n",
    "    \n",
    "    parenthesis_counter = 0\n",
    "    curly_bracket_counter = 0\n",
    "    square_bracket_counter = 0\n",
    "    \n",
    "    for i in string:\n",
    "        \n",
    "        if i == \"(\":\n",
    "            parenthesis_counter += 1\n",
    "        elif i == \")\":\n",
    "            parenthesis_counter -= 1\n",
    "            if parenthesis_counter < 0:\n",
    "                return False\n",
    "        elif i == \"[\":\n",
    "            square_bracket_counter += 1\n",
    "        elif i == \"]\":\n",
    "            square_bracket_counter -= 1\n",
    "            if square_bracket_counter < 0:\n",
    "                return False\n",
    "        elif i == \"{\":\n",
    "            curly_bracket_counter += 1\n",
    "        elif i == \"}\":\n",
    "            curly_bracket_counter -= 1\n",
    "            if curly_bracket_counter < 0:\n",
    "                return False\n",
    "        print(i)\n",
    "        \n",
    "    if (parenthesis_counter != 0 or curly_bracket_counter != 0 or square_bracket_counter != 0):\n",
    "            return False\n",
    "    return True\n",
    "    "
   ]
  },
  {
   "cell_type": "code",
   "execution_count": 28,
   "metadata": {},
   "outputs": [],
   "source": [
    "a = \"{\""
   ]
  },
  {
   "cell_type": "code",
   "execution_count": 22,
   "metadata": {},
   "outputs": [
    {
     "data": {
      "text/plain": [
       "False"
      ]
     },
     "execution_count": 22,
     "metadata": {},
     "output_type": "execute_result"
    }
   ],
   "source": [
    "closed_string(a)"
   ]
  },
  {
   "cell_type": "code",
   "execution_count": 29,
   "metadata": {},
   "outputs": [],
   "source": [
    "def checker(string):\n",
    "    # No hanging right bracket\n",
    "\n",
    "    opens = [\"(\", \"[\", \"{\"]\n",
    "    closed = [\")\", \"]\", \"}\"]\n",
    "    stack = []\n",
    "\n",
    "    for i in string:\n",
    "        if i in opens:\n",
    "            stack.append(i)\n",
    "        elif i in closed:\n",
    "            stack.pop()\n",
    "    if stack == []:\n",
    "        return True\n",
    "    else:\n",
    "        return False"
   ]
  },
  {
   "cell_type": "code",
   "execution_count": 30,
   "metadata": {},
   "outputs": [
    {
     "data": {
      "text/plain": [
       "False"
      ]
     },
     "execution_count": 30,
     "metadata": {},
     "output_type": "execute_result"
    }
   ],
   "source": [
    "checker(a)"
   ]
  },
  {
   "cell_type": "code",
   "execution_count": null,
   "metadata": {},
   "outputs": [],
   "source": []
  }
 ],
 "metadata": {
  "kernelspec": {
   "display_name": "Python 3",
   "language": "python",
   "name": "python3"
  },
  "language_info": {
   "codemirror_mode": {
    "name": "ipython",
    "version": 3
   },
   "file_extension": ".py",
   "mimetype": "text/x-python",
   "name": "python",
   "nbconvert_exporter": "python",
   "pygments_lexer": "ipython3",
   "version": "3.6.5"
  }
 },
 "nbformat": 4,
 "nbformat_minor": 2
}
