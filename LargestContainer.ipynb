{
 "cells": [
  {
   "cell_type": "code",
   "execution_count": 1,
   "metadata": {},
   "outputs": [],
   "source": [
    "a = [1,3,2,5,25,24,5]"
   ]
  },
  {
   "cell_type": "code",
   "execution_count": 8,
   "metadata": {},
   "outputs": [],
   "source": [
    "def maxArea(height):\n",
    "        \n",
    "        max_area = float('-inf')\n",
    "        \n",
    "        i = 0\n",
    "        j = len(height) - 1\n",
    "        \n",
    "        while i<j:\n",
    "            if (min(height[i], height[j]) * (j-i)) > max_area:\n",
    "\n",
    "                max_area = (min(height[i], height[j]) * (j-i))\n",
    "                \n",
    "            if height[i] > height[j]:\n",
    "                j-=1\n",
    "                \n",
    "            elif height[i] < height[j]:\n",
    "                i+=1\n",
    "            \n",
    "            elif height[i] == height[j]:\n",
    "                i+=1\n",
    "                    \n",
    "        return max_area"
   ]
  },
  {
   "cell_type": "code",
   "execution_count": 10,
   "metadata": {},
   "outputs": [
    {
     "data": {
      "text/plain": [
       "24"
      ]
     },
     "execution_count": 10,
     "metadata": {},
     "output_type": "execute_result"
    }
   ],
   "source": [
    "maxArea(a)"
   ]
  },
  {
   "cell_type": "code",
   "execution_count": null,
   "metadata": {
    "collapsed": true
   },
   "outputs": [],
   "source": []
  },
  {
   "cell_type": "code",
   "execution_count": null,
   "metadata": {},
   "outputs": [],
   "source": []
  }
 ],
 "metadata": {
  "kernelspec": {
   "display_name": "Python 3",
   "language": "python",
   "name": "python3"
  },
  "language_info": {
   "codemirror_mode": {
    "name": "ipython",
    "version": 3
   },
   "file_extension": ".py",
   "mimetype": "text/x-python",
   "name": "python",
   "nbconvert_exporter": "python",
   "pygments_lexer": "ipython3",
   "version": "3.6.5"
  }
 },
 "nbformat": 4,
 "nbformat_minor": 2
}
