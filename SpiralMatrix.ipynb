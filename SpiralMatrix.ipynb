{
 "cells": [
  {
   "cell_type": "code",
   "execution_count": 2,
   "metadata": {},
   "outputs": [],
   "source": [
    "a = [\n",
    " [ 1, 2, 3 ],\n",
    " [ 4, 5, 6 ],\n",
    " [ 7, 8, 9 ]\n",
    "]"
   ]
  },
  {
   "cell_type": "code",
   "execution_count": 3,
   "metadata": {},
   "outputs": [],
   "source": [
    "b = [\n",
    "  [1, 2, 3, 4],\n",
    "  [5, 6, 7, 8],\n",
    "  [9,10,11,12]\n",
    "]"
   ]
  },
  {
   "cell_type": "code",
   "execution_count": 15,
   "metadata": {},
   "outputs": [],
   "source": [
    "c = [\n",
    "  [1, 2, 3, 4, 5],\n",
    "  [6, 7, 8, 9,10],\n",
    "  [11,12,13,14,15],\n",
    "  [16,17,18,19,20]\n",
    "]"
   ]
  },
  {
   "cell_type": "code",
   "execution_count": 34,
   "metadata": {},
   "outputs": [],
   "source": [
    "d = [\n",
    "  [1, 2, 3, 4, 5],\n",
    "  [6, 7, 8, 9,10],\n",
    "  [11,12,13,14,15],\n",
    "  [16,17,18,19,20],\n",
    "  [21,22,23,24,25]\n",
    "]"
   ]
  },
  {
   "cell_type": "code",
   "execution_count": 16,
   "metadata": {},
   "outputs": [
    {
     "data": {
      "text/plain": [
       "[[1, 2, 3, 4, 5], [6, 7, 8, 9, 10], [11, 12, 13, 14, 15], [16, 17, 18, 19, 20]]"
      ]
     },
     "execution_count": 16,
     "metadata": {},
     "output_type": "execute_result"
    }
   ],
   "source": [
    "c"
   ]
  },
  {
   "cell_type": "code",
   "execution_count": 52,
   "metadata": {},
   "outputs": [
    {
     "data": {
      "text/plain": [
       "[1, 2, 3, 6, 9, 8, 7, 4, 5]"
      ]
     },
     "execution_count": 52,
     "metadata": {},
     "output_type": "execute_result"
    }
   ],
   "source": [
    "spiralOrder(a)"
   ]
  },
  {
   "cell_type": "code",
   "execution_count": 48,
   "metadata": {},
   "outputs": [],
   "source": [
    "def spiralOrder(arr):\n",
    "        \n",
    "        min_column = 0\n",
    "        max_column = len(arr[0])-1\n",
    "        \n",
    "        min_row = 0\n",
    "        max_row = len(arr)-1\n",
    "        \n",
    "        current_col = 0\n",
    "        current_row = 0\n",
    "        \n",
    "        path_direction = 1\n",
    "        \n",
    "        res = []\n",
    "        \n",
    "        #make sure the returned list has the same amount of elements as the input list\n",
    "        \n",
    "        while len(res) != len(arr[0]) * len(arr):\n",
    "            #print(min_row, current_row, max_row,min_column,current_col,max_column, path_direction, arr[current_row][current_col])\n",
    "            #going from left to right in the top-most row\n",
    "            if path_direction % 4 == 1:\n",
    "                res.append(arr[current_row][current_col])\n",
    "                \n",
    "                #check to see if you have reached the end of the line (row or col)\n",
    "                if current_col == max_column:\n",
    "                    min_row+=1\n",
    "                    current_row+=1\n",
    "                    \n",
    "                    #change path to vertical down\n",
    "                    path_direction+=1\n",
    "                else:\n",
    "                    current_col+=1\n",
    "            \n",
    "            #vertical down on right-most column\n",
    "            elif path_direction%4 == 2:\n",
    "                res.append(arr[current_row][current_col])\n",
    "                \n",
    "                #check to see if you have reached the end of the line (row or col)\n",
    "                if current_row == max_row:\n",
    "                    max_column-=1\n",
    "                    current_col-=1\n",
    "                \n",
    "                    #change path to horiz, right to left, bottom-most row\n",
    "                    path_direction+=1\n",
    "                else:\n",
    "                    current_row+=1\n",
    "            \n",
    "            #horiz, right to left, bottom-most row\n",
    "            elif path_direction%4 == 3:\n",
    "                res.append(arr[current_row][current_col])\n",
    "                \n",
    "                #check to see if you have reached the end of the line (row or col)\n",
    "                if current_col == min_column:\n",
    "                    max_row-=1\n",
    "                    current_row-=1\n",
    "                    \n",
    "                    #change path to vertical up, left-most column\n",
    "                    path_direction+=1\n",
    "                else:\n",
    "                    current_col-=1\n",
    "            \n",
    "            #vertical up, left-most column\n",
    "            elif path_direction%4 == 0:\n",
    "                res.append(arr[current_row][current_col])\n",
    "                \n",
    "                if current_row == min_row:\n",
    "                    min_column+=1\n",
    "                    current_col+=1\n",
    "                \n",
    "                    #change path to horiz, left to right, top-most row\n",
    "                    path_direction+=1\n",
    "                else:\n",
    "                    current_row-=1\n",
    "                    \n",
    "        return res"
   ]
  },
  {
   "cell_type": "code",
   "execution_count": null,
   "metadata": {},
   "outputs": [],
   "source": []
  },
  {
   "cell_type": "code",
   "execution_count": null,
   "metadata": {},
   "outputs": [],
   "source": []
  },
  {
   "cell_type": "code",
   "execution_count": null,
   "metadata": {},
   "outputs": [],
   "source": []
  }
 ],
 "metadata": {
  "kernelspec": {
   "display_name": "Python 3",
   "language": "python",
   "name": "python3"
  },
  "language_info": {
   "codemirror_mode": {
    "name": "ipython",
    "version": 3
   },
   "file_extension": ".py",
   "mimetype": "text/x-python",
   "name": "python",
   "nbconvert_exporter": "python",
   "pygments_lexer": "ipython3",
   "version": "3.6.5"
  }
 },
 "nbformat": 4,
 "nbformat_minor": 2
}
