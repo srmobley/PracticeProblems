{
 "cells": [
  {
   "cell_type": "code",
   "execution_count": 17,
   "metadata": {},
   "outputs": [
    {
     "data": {
      "text/plain": [
       "'1100:001111'"
      ]
     },
     "execution_count": 17,
     "metadata": {},
     "output_type": "execute_result"
    }
   ],
   "source": [
    "binary_clock(\"12:15\")"
   ]
  },
  {
   "cell_type": "code",
   "execution_count": null,
   "metadata": {},
   "outputs": [],
   "source": []
  },
  {
   "cell_type": "code",
   "execution_count": 9,
   "metadata": {},
   "outputs": [
    {
     "data": {
      "text/plain": [
       "'1010:001010'"
      ]
     },
     "execution_count": 9,
     "metadata": {},
     "output_type": "execute_result"
    }
   ],
   "source": [
    "binary_clock(\"10:10\")"
   ]
  },
  {
   "cell_type": "code",
   "execution_count": 5,
   "metadata": {},
   "outputs": [],
   "source": [
    "# needs to be 4 digits : 6 digits\n",
    "\n",
    "def convert_to_binary(num):\n",
    "    \n",
    "    binary_num = \"\"\n",
    "    \n",
    "    if num > 59:\n",
    "        return None\n",
    "    \n",
    "    while int(num) != 0:\n",
    "        \n",
    "        #if there is a remainder, add 1 to the right, otherwise add 0 (will reverse string later)\n",
    "        if num%2 == 1:\n",
    "            binary_num += \"1\"\n",
    "        else:\n",
    "            binary_num += \"0\"\n",
    "            \n",
    "        num = num//2\n",
    "            \n",
    "    return binary_num[::-1]\n",
    "\n",
    "def binary_clock(time):\n",
    "    \n",
    "    hours = time.split(\":\")[0]\n",
    "    minutes = time.split(\":\")[1]\n",
    "    \n",
    "    hours = int(hours)\n",
    "    minutes = int(minutes)\n",
    "    \n",
    "    if hours > 12 or hours < 1 or minutes > 59 or minutes < 0:\n",
    "        return \"Not a valid time\"\n",
    "    \n",
    "    return str(convert_to_binary(hours)).zfill(4) + \":\" + str(convert_to_binary(minutes)).zfill(6)\n",
    "\n"
   ]
  },
  {
   "cell_type": "code",
   "execution_count": null,
   "metadata": {},
   "outputs": [],
   "source": []
  }
 ],
 "metadata": {
  "kernelspec": {
   "display_name": "Python 3",
   "language": "python",
   "name": "python3"
  },
  "language_info": {
   "codemirror_mode": {
    "name": "ipython",
    "version": 3
   },
   "file_extension": ".py",
   "mimetype": "text/x-python",
   "name": "python",
   "nbconvert_exporter": "python",
   "pygments_lexer": "ipython3",
   "version": "3.6.5"
  }
 },
 "nbformat": 4,
 "nbformat_minor": 2
}
