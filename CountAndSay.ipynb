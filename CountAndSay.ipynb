{
 "cells": [
  {
   "cell_type": "markdown",
   "metadata": {},
   "source": [
    "https://leetcode.com/problems/count-and-say/\n",
    "\n",
    "The count-and-say sequence is the sequence of integers with the first five terms as following:\n",
    "\n",
    "1.     1\n",
    "2.     11\n",
    "3.     21\n",
    "4.     1211\n",
    "5.     111221\n",
    "\n",
    "1 is read off as \"one 1\" or 11.\n",
    "11 is read off as \"two 1s\" or 21.\n",
    "21 is read off as \"one 2, then one 1\" or 1211.\n",
    "\n",
    "Given an integer n where 1 ≤ n ≤ 30, generate the nth term of the count-and-say sequence.\n",
    "\n",
    "Note: Each term of the sequence of integers will be represented as a string."
   ]
  },
  {
   "cell_type": "code",
   "execution_count": null,
   "metadata": {},
   "outputs": [],
   "source": [
    "class Solution:\n",
    "    def countAndSay(self, n: int) -> str:\n",
    "        if n < 1 or n > 30:\n",
    "            return None\n",
    "\n",
    "        elif n == 1:\n",
    "            return \"1\"\n",
    "\n",
    "        string_name = \"1\"\n",
    "        for i in range(1, n):\n",
    "            temp_string = self._convert(string_name)\n",
    "            string_name = temp_string\n",
    "        return string_name\n",
    "\n",
    "    def _convert(self,string):\n",
    "        answer = \"\"\n",
    "        count = 1\n",
    "\n",
    "        if len(string) == 1:\n",
    "            answer += str(count)\n",
    "            answer += string\n",
    "\n",
    "        for i in range(1, len(string)):\n",
    "\n",
    "            if i == len(string)-1 and string[i-1] == string[i]:\n",
    "                answer += str(count+1)\n",
    "                answer += string[i]\n",
    "\n",
    "            elif string[i-1] == string[i]:\n",
    "                count += 1\n",
    "\n",
    "            elif i == len(string)-1 and string[i-1] != string[i]:\n",
    "                answer += str(count)\n",
    "                answer += string[i-1]\n",
    "                answer += str(1)\n",
    "                answer += string[i]\n",
    "\n",
    "            else:\n",
    "                answer += str(count)\n",
    "                answer += string[i-1]\n",
    "                count = 1\n",
    "\n",
    "        return answer"
   ]
  }
 ],
 "metadata": {
  "kernelspec": {
   "display_name": "Python 3",
   "language": "python",
   "name": "python3"
  },
  "language_info": {
   "codemirror_mode": {
    "name": "ipython",
    "version": 3
   },
   "file_extension": ".py",
   "mimetype": "text/x-python",
   "name": "python",
   "nbconvert_exporter": "python",
   "pygments_lexer": "ipython3",
   "version": "3.6.6"
  }
 },
 "nbformat": 4,
 "nbformat_minor": 2
}
