{
 "cells": [
  {
   "cell_type": "code",
   "execution_count": 50,
   "metadata": {},
   "outputs": [],
   "source": [
    "example_prices = [1]"
   ]
  },
  {
   "cell_type": "code",
   "execution_count": 51,
   "metadata": {},
   "outputs": [],
   "source": [
    "def get_max_profit(stock_prices):\n",
    "    \n",
    "    money_made = 0\n",
    "    min_temp = stock_prices[0]\n",
    "    max_temp = stock_prices[0]\n",
    "    \n",
    "    \n",
    "    for i in range(len(stock_prices)):\n",
    "        \n",
    "        #if the stock didn't rise, take the rise from the previous climb, and restart a new climb\n",
    "        \n",
    "        if (i == len(stock_prices)-1) and (stock_prices[i] < max_temp):\n",
    "            money_made += max_temp - min_temp\n",
    "        elif (i == len(stock_prices)-1) and (stock_prices[i] > max_temp):\n",
    "            money_made += stock_prices[i] - min_temp\n",
    "            \n",
    "        elif stock_prices[i] < max_temp:\n",
    "            \n",
    "            money_made += max_temp - min_temp\n",
    "            max_temp = stock_prices[i]\n",
    "            min_temp = stock_prices[i]\n",
    "\n",
    "        else:\n",
    "            max_temp = stock_prices[i]\n",
    "        \n",
    "    \n",
    "    return money_made"
   ]
  },
  {
   "cell_type": "code",
   "execution_count": 52,
   "metadata": {},
   "outputs": [
    {
     "name": "stdout",
     "output_type": "stream",
     "text": [
      "0\n"
     ]
    }
   ],
   "source": [
    "print(get_max_profit(example_prices))"
   ]
  },
  {
   "cell_type": "code",
   "execution_count": null,
   "metadata": {},
   "outputs": [],
   "source": []
  }
 ],
 "metadata": {
  "kernelspec": {
   "display_name": "Python 3",
   "language": "python",
   "name": "python3"
  },
  "language_info": {
   "codemirror_mode": {
    "name": "ipython",
    "version": 3
   },
   "file_extension": ".py",
   "mimetype": "text/x-python",
   "name": "python",
   "nbconvert_exporter": "python",
   "pygments_lexer": "ipython3",
   "version": "3.6.5"
  }
 },
 "nbformat": 4,
 "nbformat_minor": 2
}
